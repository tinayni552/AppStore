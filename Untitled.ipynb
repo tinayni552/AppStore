{
 "cells": [
  {
   "cell_type": "markdown",
   "metadata": {},
   "source": [
    "# Google Play and App Store Apps Analysis"
   ]
  },
  {
   "cell_type": "markdown",
   "metadata": {},
   "source": [
    "In this project, We will be diving deep into the different apps that exist in the Google Play and App store in order to identify the types of apps that are the most compelling for the users. we are a team of data analysts working at a company that develops and publishes free mobile apps.\n",
    "\n",
    "In our company, our main source of revenue is the in-app ads, so it highly depends on the number of users. Our goal is to help the developers understand the different criteria of the apps that attract the biggest number of users."
   ]
  },
  {
   "cell_type": "markdown",
   "metadata": {},
   "source": [
    "# Opening and Exploring the Data"
   ]
  },
  {
   "cell_type": "markdown",
   "metadata": {},
   "source": [
    "As of September 2018, there were approximately 2 million iOS apps available on the App Store, and 2.1 million Android apps on Google Play."
   ]
  },
  {
   "cell_type": "markdown",
   "metadata": {},
   "source": [
    "Collecting data for over 4 million apps requires a significant amount of time and money, so we'll try to analyze a sample of the data instead. To avoid spending resources on collecting new data ourselves, we should first try to see if we can find any relevant existing data at no cost. Luckily, these are two data sets that seem suitable for our goals:\n",
    "\n",
    "- A data set containing data about approximately 10,000 Android apps from Google Play; the data was collected in August 2018. You can download the data set directly from this [link](https://dq-content.s3.amazonaws.com/350/googleplaystore.csv).\n",
    "- A data set containing data about approximately 7,000 iOS apps from the App Store; the data was collected in July 2017. You can download the data set directly from this [link](https://dq-content.s3.amazonaws.com/350/AppleStore.csv)."
   ]
  },
  {
   "cell_type": "code",
   "execution_count": 3,
   "metadata": {},
   "outputs": [],
   "source": [
    "from csv import reader\n",
    "\n",
    "### open the Apple Store file ###\n",
    "file = open('AppleStore.csv', encoding=\"utf8\")\n",
    "read_file = reader(file)\n",
    "apple = list(read_file)\n",
    "apple_header = apple[0]\n",
    "apple_data = apple[1:]\n",
    "\n",
    "### open the Google Play file ###\n",
    "file = open('googleplaystore.csv', encoding=\"utf8\")\n",
    "read_file = reader(file)\n",
    "android = list(read_file)\n",
    "android_header = android[0]\n",
    "android_data = android[1:]"
   ]
  },
  {
   "cell_type": "markdown",
   "metadata": {},
   "source": [
    "We'll start by opening and exploring these two data sets. To make them easier for you to explore, we created a function named explore_data() that you can repeatedly use to print rows in a readable way."
   ]
  },
  {
   "cell_type": "code",
   "execution_count": 14,
   "metadata": {},
   "outputs": [
    {
     "name": "stdout",
     "output_type": "stream",
     "text": [
      "['id', 'track_name', 'size_bytes', 'currency', 'price', 'rating_count_tot', 'rating_count_ver', 'user_rating', 'user_rating_ver', 'ver', 'cont_rating', 'prime_genre', 'sup_devices.num', 'ipadSc_urls.num', 'lang.num', 'vpp_lic']\n",
      "\n",
      "\n",
      "['284882215', 'Facebook', '389879808', 'USD', '0.0', '2974676', '212', '3.5', '3.5', '95.0', '4+', 'Social Networking', '37', '1', '29', '1']\n",
      "\n",
      "\n",
      "['389801252', 'Instagram', '113954816', 'USD', '0.0', '2161558', '1289', '4.5', '4.0', '10.23', '12+', 'Photo & Video', '37', '0', '29', '1']\n",
      "\n",
      "\n",
      "['529479190', 'Clash of Clans', '116476928', 'USD', '0.0', '2130805', '579', '4.5', '4.5', '9.24.12', '9+', 'Games', '38', '5', '18', '1']\n",
      "\n",
      "\n",
      "['420009108', 'Temple Run', '65921024', 'USD', '0.0', '1724546', '3842', '4.5', '4.0', '1.6.2', '9+', 'Games', '40', '5', '1', '1']\n",
      "\n",
      "\n",
      "['284035177', 'Pandora - Music & Radio', '130242560', 'USD', '0.0', '1126879', '3594', '4.0', '4.5', '8.4.1', '12+', 'Music', '37', '4', '1', '1']\n",
      "\n",
      "\n",
      "Number of rows: 7197\n",
      "Number of columns: 16\n"
     ]
    }
   ],
   "source": [
    "def explore_data(dataset, start, end, rows_and_columns=False):\n",
    "    dataset_slice = dataset[start:end]    \n",
    "    for row in dataset_slice:\n",
    "        print(row)\n",
    "        print('\\n')\n",
    "### This will print the number of columns and rows if the optional value 'rows_and_columns' is True\n",
    "    if rows_and_columns:\n",
    "        print('Number of rows:', len(dataset))\n",
    "        print('Number of columns:', len(dataset[0]))\n",
    "\n",
    "print(apple_header)\n",
    "print('\\n')\n",
    "explore_data(apple_data, 0,5,True)"
   ]
  },
  {
   "cell_type": "markdown",
   "metadata": {},
   "source": [
    "We can see that the data of the apple store contains 7197 rows and 16 columns. We think that the categories that can help in our analysis are the user rating and genre.\n",
    "Since not all of the column names are self explanatory, we can use this [documentation](https://www.kaggle.com/ramamet4/app-store-apple-data-set-10k-apps/home) for the explanantions."
   ]
  },
  {
   "cell_type": "code",
   "execution_count": 15,
   "metadata": {},
   "outputs": [
    {
     "name": "stdout",
     "output_type": "stream",
     "text": [
      "['App', 'Category', 'Rating', 'Reviews', 'Size', 'Installs', 'Type', 'Price', 'Content Rating', 'Genres', 'Last Updated', 'Current Ver', 'Android Ver']\n",
      "\n",
      "\n",
      "['Photo Editor & Candy Camera & Grid & ScrapBook', 'ART_AND_DESIGN', '4.1', '159', '19M', '10,000+', 'Free', '0', 'Everyone', 'Art & Design', 'January 7, 2018', '1.0.0', '4.0.3 and up']\n",
      "\n",
      "\n",
      "['Coloring book moana', 'ART_AND_DESIGN', '3.9', '967', '14M', '500,000+', 'Free', '0', 'Everyone', 'Art & Design;Pretend Play', 'January 15, 2018', '2.0.0', '4.0.3 and up']\n",
      "\n",
      "\n",
      "['U Launcher Lite – FREE Live Cool Themes, Hide Apps', 'ART_AND_DESIGN', '4.7', '87510', '8.7M', '5,000,000+', 'Free', '0', 'Everyone', 'Art & Design', 'August 1, 2018', '1.2.4', '4.0.3 and up']\n",
      "\n",
      "\n",
      "['Sketch - Draw & Paint', 'ART_AND_DESIGN', '4.5', '215644', '25M', '50,000,000+', 'Free', '0', 'Teen', 'Art & Design', 'June 8, 2018', 'Varies with device', '4.2 and up']\n",
      "\n",
      "\n",
      "['Pixel Draw - Number Art Coloring Book', 'ART_AND_DESIGN', '4.3', '967', '2.8M', '100,000+', 'Free', '0', 'Everyone', 'Art & Design;Creativity', 'June 20, 2018', '1.1', '4.4 and up']\n",
      "\n",
      "\n",
      "Number of rows: 10841\n",
      "Number of columns: 13\n"
     ]
    }
   ],
   "source": [
    "print(android_header)\n",
    "print('\\n')\n",
    "explore_data(android_data, 0,5,True)"
   ]
  },
  {
   "cell_type": "markdown",
   "metadata": {},
   "source": [
    "We can see that the data of the goole play store contains 10841 rows and 13 columns. We think that the categories that can help in our analysis are the category, rating, type, and genre."
   ]
  },
  {
   "cell_type": "markdown",
   "metadata": {},
   "source": [
    "# Data Cleaning"
   ]
  },
  {
   "cell_type": "markdown",
   "metadata": {},
   "source": [
    "## Wrong Data"
   ]
  },
  {
   "cell_type": "markdown",
   "metadata": {},
   "source": [
    "Now that we have imported the data, we want to clean it. First, we are going to remove any wrong data. The [discussion section](https://www.kaggle.com/lava18/google-play-store-apps/discussion) shows that the wrong data lie in the ratings of the apps only. Therefore, we are going to check the ratings of the apps to verify that they all lie between 0 and 5.\n"
   ]
  },
  {
   "cell_type": "code",
   "execution_count": 59,
   "metadata": {},
   "outputs": [
    {
     "name": "stdout",
     "output_type": "stream",
     "text": [
      "Android Data: \n",
      "\n",
      "Number of correct data:  10840\n",
      "Number of wrong data:  1\n",
      "App Name:  Life Made WI-Fi Touchscreen Photo Frame\n",
      "Rating:  19.0\n",
      "index:  10472\n",
      "Number of rows before deletion: 10841\n",
      "Number of rows after deletion: 10840\n",
      "\n",
      "Apple Data: \n",
      "\n",
      "Number of correct data:  7197\n",
      "Number of wrong data:  0\n"
     ]
    }
   ],
   "source": [
    "outside = []\n",
    "inside = []\n",
    "i = 0\n",
    "\n",
    "### Android Data ###\n",
    "for rows in android_data:\n",
    "    review = float(rows[2])\n",
    "    if review > 5:\n",
    "        outside.append(review)\n",
    "        app_name = rows[0]\n",
    "        to_delete = i\n",
    "    else:\n",
    "        inside.append(review)\n",
    "    i += 1\n",
    "print('Android Data: \\n')\n",
    "print('Number of correct data: ',len(inside))\n",
    "print('Number of wrong data: ',len(outside))\n",
    "print('App Name: ',app_name)\n",
    "print('Rating: ',outside[0])\n",
    "print('index: ', to_delete)\n",
    "print('Number of rows before deletion:', len(android_data))\n",
    "del android_data[to_delete]\n",
    "print('Number of rows after deletion:', len(android_data))\n",
    "\n",
    "### Apple Data ###\n",
    "outside = []\n",
    "inside = []\n",
    "for rows in apple_data:\n",
    "    review = float(rows[7])\n",
    "    if review > 5:\n",
    "        outside.append(review)\n",
    "    else:\n",
    "        inside.append(review)\n",
    "print('\\nApple Data: \\n')\n",
    "print('Number of correct data: ',len(inside))\n",
    "print('Number of wrong data: ',len(outside))"
   ]
  },
  {
   "cell_type": "markdown",
   "metadata": {},
   "source": [
    "We can see above that the apple dataset do not contain any wrong data. The android data however does contain one wrong entry where the review is equal to 19. This row was deleted and thus the total number of rows in the google play dataset was reduced from 10841 to 10840"
   ]
  },
  {
   "cell_type": "markdown",
   "metadata": {},
   "source": [
    "## Remove Duplicates"
   ]
  },
  {
   "cell_type": "markdown",
   "metadata": {},
   "source": [
    "Some of the apps inside the datasets are repeated more than once; this will affect our future analysis. After analyzing the data, we found out that the main difference between the duplicates is the number of reviews. Therefore, we are going to remove any duplicates and keep the row that has the highest number of reviews. "
   ]
  },
  {
   "cell_type": "code",
   "execution_count": 115,
   "metadata": {},
   "outputs": [
    {
     "name": "stdout",
     "output_type": "stream",
     "text": [
      "Apple Data:\n",
      "\n",
      "Number of Duplicates:  2\n",
      "Number of non Duplicates: 7195\n",
      "Number of rows in the updated list for the apple data:  7195\n",
      "\n",
      "Duplicates Verification:\n",
      "\n",
      "Number of Duplicates:  0\n",
      "Number of non Duplicates: 7195\n"
     ]
    }
   ],
   "source": [
    "### Apple Data ###\n",
    "\n",
    "# Checking for duplicates\n",
    "\n",
    "duplicate = []\n",
    "non_duplicate = []\n",
    "for rows in apple_data:\n",
    "    ID = rows[1]\n",
    "    if ID in non_duplicate:\n",
    "        duplicate.append(rows)\n",
    "    else:\n",
    "        non_duplicate.append(ID)\n",
    "\n",
    "print('Apple Data:\\n')\n",
    "print('Number of Duplicates: ', len(duplicate))\n",
    "print('Number of non Duplicates:', len(non_duplicate))\n",
    "\n",
    "# removing duplicates by putting the app names and number of reviews in a dictionary while keeping the duplicates with the\n",
    "# highest number of reviews\n",
    "\n",
    "dictionary = {}\n",
    "i = 0\n",
    "\n",
    "for rows in apple_data:\n",
    "    app_name = rows[1]\n",
    "    n_reviews = rows[5]\n",
    "    if app_name in dictionary and n_reviews>dictionary[app_name]:\n",
    "        dictionary[app_name] = n_reviews\n",
    "    elif app_name not in dictionary:\n",
    "        dictionary[app_name] = n_reviews\n",
    "\n",
    "# tansfering the results from apple_data to android_clean and using the dictionary to check the duplicates\n",
    "\n",
    "apple_clean = []\n",
    "\n",
    "for rows in apple_data:\n",
    "    app_name = rows[1]\n",
    "    n_reviews = rows[5]\n",
    "    if app_name in dictionary and n_reviews == dictionary[app_name]:\n",
    "        apple_clean.append(rows)\n",
    "\n",
    "print('Number of rows in the updated list for the apple data: ',len(apple_clean))\n",
    "\n",
    "# Verifying the elimination of duplicates\n",
    "\n",
    "print('\\nDuplicates Verification:\\n')\n",
    "duplicate = []\n",
    "non_duplicate = []\n",
    "for rows in apple_clean:\n",
    "    ID = rows[0]\n",
    "    if ID in non_duplicate:\n",
    "        duplicate.append(rows)\n",
    "    else:\n",
    "        non_duplicate.append(ID)\n",
    "\n",
    "print('Number of Duplicates: ', len(duplicate))\n",
    "print('Number of non Duplicates:', len(non_duplicate))"
   ]
  },
  {
   "cell_type": "code",
   "execution_count": 114,
   "metadata": {},
   "outputs": [
    {
     "name": "stdout",
     "output_type": "stream",
     "text": [
      "Android Data:\n",
      "\n",
      "Number of Duplicates:  1181\n",
      "Number of non Duplicates: 9659\n",
      "Number of rows in the updated list for the android data:  9659\n",
      "\n",
      "Duplicates Verification:\n",
      "\n",
      "Number of Duplicates:  0\n",
      "Number of non Duplicates: 9659\n"
     ]
    }
   ],
   "source": [
    "### Android Data ###\n",
    "\n",
    "# Checking for duplicates\n",
    "\n",
    "duplicate = []\n",
    "non_duplicate = []\n",
    "for rows in android_data:\n",
    "    ID = rows[0]\n",
    "    if ID in non_duplicate:\n",
    "        duplicate.append(rows)\n",
    "    else:\n",
    "        non_duplicate.append(ID)\n",
    "\n",
    "print('Android Data:\\n')\n",
    "print('Number of Duplicates: ', len(duplicate))\n",
    "print('Number of non Duplicates:', len(non_duplicate))\n",
    "\n",
    "# removing duplicates by putting the app names and number of reviews in a dictionary while keeping the duplicates with the\n",
    "# highest number of reviews\n",
    "\n",
    "dictionary = {}\n",
    "i = 0\n",
    "\n",
    "for rows in android_data:\n",
    "    app_name = rows[0]\n",
    "    n_reviews = rows[3]\n",
    "    if app_name in dictionary and n_reviews>dictionary[app_name]:\n",
    "        dictionary[app_name] = n_reviews\n",
    "    elif app_name not in dictionary:\n",
    "        dictionary[app_name] = n_reviews\n",
    "        \n",
    "# tansfering the results from apple_data to android_clean and using the dictionary to check the duplicates\n",
    "\n",
    "android_clean = []\n",
    "ignore = []\n",
    "\n",
    "for rows in android_data:\n",
    "    app_name = rows[0]\n",
    "    n_reviews = rows[3]\n",
    "    if app_name not in ignore and n_reviews == dictionary[app_name]:\n",
    "        android_clean.append(rows)\n",
    "        ignore.append(app_name)\n",
    "\n",
    "print('Number of rows in the updated list for the android data: ',len(android_clean))\n",
    "\n",
    "# Verifying the elimination of duplicates\n",
    "\n",
    "print('\\nDuplicates Verification:\\n')\n",
    "duplicate = []\n",
    "non_duplicate = []\n",
    "for rows in android_clean:\n",
    "    ID = rows[0]\n",
    "    if ID in non_duplicate:\n",
    "        duplicate.append(rows)\n",
    "    else:\n",
    "        non_duplicate.append(ID)\n",
    "\n",
    "print('Number of Duplicates: ', len(duplicate))\n",
    "print('Number of non Duplicates:', len(non_duplicate))"
   ]
  },
  {
   "cell_type": "markdown",
   "metadata": {},
   "source": [
    "## Removing Non-English Apps"
   ]
  },
  {
   "cell_type": "markdown",
   "metadata": {},
   "source": [
    "In the previous step, we managed to remove the duplicate app entries in the Google Play data set. Remember we use English for the apps we develop at our company, and we'd like to analyze only the apps that are directed toward an English-speaking audience. However, if we explore the data long enough, we'll find that both data sets have apps with names that suggest they are not directed toward an English-speaking audience."
   ]
  },
  {
   "cell_type": "code",
   "execution_count": 128,
   "metadata": {},
   "outputs": [
    {
     "name": "stdout",
     "output_type": "stream",
     "text": [
      "爱奇艺PPS -《欢乐颂2》电视剧热播\n",
      "【脱出ゲーム】絶対に最後までプレイしないで 〜謎解き＆ブロックパズル〜\n"
     ]
    }
   ],
   "source": [
    "print(apple_data[813][1])\n",
    "print(apple_data[6731][1])\n"
   ]
  },
  {
   "cell_type": "markdown",
   "metadata": {},
   "source": [
    "We're not interested in keeping these apps, so we'll remove them. One way to go about this is to remove each app with a name containing a symbol that is not commonly used in English text — English text usually includes letters from the English alphabet, numbers composed of digits from 0 to 9, punctuation marks (., !, ?, ;), and other symbols (+, *, /)."
   ]
  },
  {
   "cell_type": "markdown",
   "metadata": {},
   "source": [
    "The numbers corresponding to the characters we commonly use in an English text are all in the range 0 to 127, according to the ASCII (American Standard Code for Information Interchange) system. Based on this number range, we can build a function that detects whether a character belongs to the set of common English characters or not. If the number is equal to or less than 127, then the character belongs to the set of common English characters.\n",
    "\n"
   ]
  },
  {
   "cell_type": "markdown",
   "metadata": {},
   "source": [
    "We will build a function that identifies the English letters and outputs 'True' if the app name contains english letters and 'False'when the app name contains a non-english character."
   ]
  },
  {
   "cell_type": "code",
   "execution_count": 156,
   "metadata": {},
   "outputs": [
    {
     "name": "stdout",
     "output_type": "stream",
     "text": [
      "True\n"
     ]
    }
   ],
   "source": [
    "def is_english(string):\n",
    "    i = 0\n",
    "    for letter in string:\n",
    "        if ord(letter) > 127:\n",
    "            return False\n",
    "    return True"
   ]
  },
  {
   "cell_type": "markdown",
   "metadata": {},
   "source": [
    "we can see below that the function runs well, however it recognizes the '😜' and the '™' as non-english characters because these characters have corresponding numbers that are greater than 127"
   ]
  },
  {
   "cell_type": "code",
   "execution_count": 162,
   "metadata": {
    "scrolled": true
   },
   "outputs": [
    {
     "name": "stdout",
     "output_type": "stream",
     "text": [
      "Function Test:\n",
      "\n",
      "Instagram ==>  True\n",
      "爱奇艺PPS -《欢乐颂2》电视剧热播 ==>  False\n",
      "Docs To Go™ Free Office Suite ==>  True\n",
      "Instachat 😜 ==>  True\n"
     ]
    }
   ],
   "source": [
    "print('Function Test:\\n')\n",
    "print('Instagram ==> ',is_english('Instagram'))\n",
    "print('爱奇艺PPS -《欢乐颂2》电视剧热播 ==> ',is_english('爱奇艺PPS -《欢乐颂2》电视剧热播'))\n",
    "print('Docs To Go™ Free Office Suite ==> ',is_english('Docs To Go™ Free Office Suite'))\n",
    "print('Instachat 😜 ==> ',is_english('Instachat 😜'))\n"
   ]
  },
  {
   "cell_type": "markdown",
   "metadata": {},
   "source": [
    "If we're going to use the function we've created, we'll lose useful data since many English apps will be incorrectly labeled as non-English. To minimize the impact of data loss, we'll only remove an app if its name has more than three characters with corresponding numbers falling outside the ASCII range. This means all English apps with up to three emoji or other special characters will still be labeled as English. Our filter function is still not perfect, but it should be fairly effective."
   ]
  },
  {
   "cell_type": "code",
   "execution_count": 186,
   "metadata": {},
   "outputs": [],
   "source": [
    "def is_english(string):\n",
    "    i = 0\n",
    "    for letter in string:\n",
    "        if ord(letter) > 127:\n",
    "            i +=1\n",
    "            if i > 3:\n",
    "                return False\n",
    "    return True"
   ]
  },
  {
   "cell_type": "code",
   "execution_count": 182,
   "metadata": {},
   "outputs": [
    {
     "name": "stdout",
     "output_type": "stream",
     "text": [
      "Function Test:\n",
      "\n",
      "Instagram ==>  True\n",
      "爱奇艺PPS -《欢乐颂2》电视剧热播 ==>  False\n",
      "Docs To Go™ Free Office Suite ==>  True\n",
      "Instachat 😜 ==>  True\n"
     ]
    }
   ],
   "source": [
    "print('Function Test:\\n')\n",
    "print('Instagram ==> ',is_english('Instagram'))\n",
    "print('爱奇艺PPS -《欢乐颂2》电视剧热播 ==> ',is_english('爱奇艺PPS -《欢乐颂2》电视剧热播'))\n",
    "print('Docs To Go™ Free Office Suite ==> ',is_english('Docs To Go™ Free Office Suite'))\n",
    "print('Instachat 😜 ==> ',is_english('Instachat 😜'))"
   ]
  },
  {
   "cell_type": "markdown",
   "metadata": {},
   "source": [
    "As we can see above, the function works pretty well in identifying the apps with the english words, even if it contains special characters.\n",
    "we will now apply this function to filter out the applications that contain non-english names from our datasets."
   ]
  },
  {
   "cell_type": "code",
   "execution_count": 187,
   "metadata": {},
   "outputs": [
    {
     "name": "stdout",
     "output_type": "stream",
     "text": [
      "Number of Apps in the App Store with an English Name:  6181\n",
      "Number of Apps in the App Store with a Non-English Name:  1014\n"
     ]
    }
   ],
   "source": [
    "### Apple Data ###\n",
    "\n",
    "apple_english = []\n",
    "apple_non_english = []\n",
    "\n",
    "for rows in apple_clean:\n",
    "    app_name = rows[1]\n",
    "    if is_english(app_name):\n",
    "        apple_english.append(rows)\n",
    "    else:\n",
    "        apple_non_english.append(rows)\n",
    "\n",
    "print('Number of Apps in the App Store Dataset with an English Name: ',len(apple_english))\n",
    "print('Number of Apps in the App Store Dataset with a Non-English Name: ',len(apple_non_english))\n",
    "    "
   ]
  },
  {
   "cell_type": "code",
   "execution_count": 188,
   "metadata": {},
   "outputs": [
    {
     "name": "stdout",
     "output_type": "stream",
     "text": [
      "Number of Apps in the Google Play Store with an English Name:  9614\n",
      "Number of Apps in the Google Play Store with a Non-English Name:  45\n"
     ]
    }
   ],
   "source": [
    "### Android Data ###\n",
    "\n",
    "android_english = []\n",
    "android_non_english = []\n",
    "\n",
    "for rows in android_clean:\n",
    "    app_name = rows[0]\n",
    "    if is_english(app_name):\n",
    "        android_english.append(rows)\n",
    "    else:\n",
    "        android_non_english.append(rows)\n",
    "\n",
    "print('Number of Apps in the Google Play Store Dataset with an English Name: ',len(android_english))\n",
    "print('Number of Apps in the Google Play Store Dataset with a Non-English Name: ',len(android_non_english))\n",
    "    "
   ]
  },
  {
   "cell_type": "markdown",
   "metadata": {},
   "source": [
    "Now we are left with 9614 Android Apps and 6181 ios Apps"
   ]
  },
  {
   "cell_type": "markdown",
   "metadata": {},
   "source": [
    "## Isolating the Free Apps"
   ]
  },
  {
   "cell_type": "markdown",
   "metadata": {},
   "source": [
    "So far in the data cleaning process, we:\n",
    "\n",
    "- Removed inaccurate data\n",
    "- Removed duplicate app entries\n",
    "- Removed non-English apps\n",
    "\n",
    "As we mentioned in the introduction, we only build apps that are free to download and install, and our main source of revenue consists of in-app ads. Our data sets contain both free and non-free apps; we'll need to isolate only the free apps for our analysis.\n",
    "\n",
    "Isolating the free apps will be our last step in the data cleaning process. On the next screen, we're going to start analyzing the data."
   ]
  },
  {
   "cell_type": "code",
   "execution_count": 196,
   "metadata": {},
   "outputs": [
    {
     "name": "stdout",
     "output_type": "stream",
     "text": [
      "Number of Free Apps in the App Store Dataset:  3220\n",
      "Number of Paid Apps in the App Store Dataset:  2961\n"
     ]
    }
   ],
   "source": [
    "### Apple Data ###\n",
    "\n",
    "apple_free = []\n",
    "apple_paid = []\n",
    "\n",
    "for rows in apple_english:\n",
    "    price = float(rows[4])\n",
    "    if price == 0:\n",
    "        apple_free.append(rows)\n",
    "    else:\n",
    "        apple_paid.append(rows)\n",
    "\n",
    "print('Number of Free Apps in the App Store Dataset: ',len(apple_free))\n",
    "print('Number of Paid Apps in the App Store Dataset: ',len(apple_paid))"
   ]
  },
  {
   "cell_type": "code",
   "execution_count": 208,
   "metadata": {},
   "outputs": [
    {
     "name": "stdout",
     "output_type": "stream",
     "text": [
      "Number of Free Apps in the Google Play Store Dataset:  8862\n",
      "Number of Paid Apps in the Google Play Store Dataset:  752\n"
     ]
    }
   ],
   "source": [
    "### Android Data ###\n",
    "\n",
    "android_free = []\n",
    "android_paid = []\n",
    "\n",
    "for rows in android_english:\n",
    "    price = rows[7]\n",
    "    if price == '0':\n",
    "        android_free.append(rows)\n",
    "    else:\n",
    "        android_paid.append(rows)\n",
    "\n",
    "print('Number of Free Apps in the Google Play Store Dataset: ',len(android_free))\n",
    "print('Number of Paid Apps in the Google Play Store Dataset: ',len(android_paid))\n",
    "\n"
   ]
  },
  {
   "cell_type": "markdown",
   "metadata": {},
   "source": [
    "So far, we spent a good amount of time on cleaning data, and:\n",
    "\n",
    "- Removed inaccurate data\n",
    "- Removed duplicate app entries\n",
    "- Removed non-English apps\n",
    "- Isolated the free apps\n",
    "\n",
    "We are left with 8862 apps in the Google Play Store and 3220 Apps in the App Store."
   ]
  },
  {
   "cell_type": "markdown",
   "metadata": {},
   "source": [
    "## Strategy"
   ]
  },
  {
   "cell_type": "markdown",
   "metadata": {},
   "source": [
    "To minimize risks and overhead, our validation strategy for an app idea is comprised of three steps:\n",
    "\n",
    "- Build a minimal Android version of the app, and add it to Google Play.\n",
    "- If the app has a good response from users, we develop it further.\n",
    "- If the app is profitable after six months, we build an iOS version of the app and add it to the App Store.\n",
    "\n",
    "Because our end goal is to add the app on both Google Play and the App Store, we need to find app profiles that are successful on both markets. For instance, a profile that works well for both markets might be a productivity app that makes use of gamification."
   ]
  },
  {
   "cell_type": "markdown",
   "metadata": {},
   "source": [
    "## Most Common Genres"
   ]
  },
  {
   "cell_type": "markdown",
   "metadata": {},
   "source": [
    "Let's begin the analysis by getting a sense of what are the most common genres for each market. For this, we'll need to build frequency tables for a few columns in our data sets."
   ]
  },
  {
   "cell_type": "markdown",
   "metadata": {},
   "source": [
    "We'll build two functions we can use to analyze the frequency tables:\n",
    "\n",
    "- One function to generate frequency tables that show percentages\n",
    "- Another function we can use to display the percentages in a descending order"
   ]
  },
  {
   "cell_type": "code",
   "execution_count": 246,
   "metadata": {},
   "outputs": [],
   "source": [
    "# Function that creates a dictionary containing the genre and the percentage\n",
    "\n",
    "def freq_table(dataset, index):\n",
    "    dictionary = {}\n",
    "    for rows in dataset:\n",
    "        column = rows[index]\n",
    "        if column in dictionary:\n",
    "            dictionary[column] += ( 1 / len(dataset) )* 100\n",
    "        else:\n",
    "            dictionary[column] = ( 1 / len(dataset) ) * 100\n",
    "    return dictionary\n",
    "\n",
    "# Function that arranges the values in a list of tuples in order to sort them \n",
    "# out\n",
    "\n",
    "def display_table(dataset, index):\n",
    "    table = freq_table(dataset, index)\n",
    "    table_display = []\n",
    "    for key in table:\n",
    "        key_val_as_tuple = (table[key], key)\n",
    "        table_display.append(key_val_as_tuple)\n",
    "\n",
    "    table_sorted = sorted(table_display, reverse = True)\n",
    "    for entry in table_sorted:\n",
    "        print(entry[1], ':', entry[0])\n"
   ]
  },
  {
   "cell_type": "markdown",
   "metadata": {},
   "source": [
    "Now we will check the output of the functions that we have created"
   ]
  },
  {
   "cell_type": "code",
   "execution_count": 248,
   "metadata": {},
   "outputs": [
    {
     "name": "stdout",
     "output_type": "stream",
     "text": [
      "Apple Store Results:\n",
      "\n",
      "Games : 58.13664596273457\n",
      "Entertainment : 7.888198757764019\n",
      "Photo & Video : 4.968944099378889\n",
      "Education : 3.66459627329192\n",
      "Social Networking : 3.2919254658385046\n",
      "Shopping : 2.6086956521739095\n",
      "Utilities : 2.5155279503105556\n",
      "Sports : 2.14285714285714\n",
      "Music : 2.0496894409937862\n",
      "Health & Fitness : 2.0186335403726683\n",
      "Productivity : 1.7391304347826066\n",
      "Lifestyle : 1.5838509316770168\n",
      "News : 1.3354037267080732\n",
      "Travel : 1.2422360248447193\n",
      "Finance : 1.1180124223602474\n",
      "Weather : 0.8695652173913038\n",
      "Food & Drink : 0.8074534161490678\n",
      "Reference : 0.5590062111801242\n",
      "Business : 0.5279503105590062\n",
      "Book : 0.43478260869565216\n",
      "Navigation : 0.18633540372670807\n",
      "Medical : 0.18633540372670807\n",
      "Catalogs : 0.12422360248447205\n",
      "\n",
      "Google Play Store Results:\n",
      "\n",
      "FAMILY : 18.9347777025507\n",
      "GAME : 9.69307154141295\n",
      "TOOLS : 8.451816745655742\n",
      "BUSINESS : 4.592642744301517\n",
      "LIFESTYLE : 3.904310539381615\n",
      "PRODUCTIVITY : 3.893026404874732\n",
      "FINANCE : 3.7011961182577164\n",
      "MEDICAL : 3.5206499661475843\n",
      "SPORTS : 3.3965244865718685\n",
      "PERSONALIZATION : 3.3175355450236856\n",
      "COMMUNICATION : 3.238546603475503\n",
      "HEALTH_AND_FITNESS : 3.080568720379137\n",
      "PHOTOGRAPHY : 2.945159106296538\n",
      "NEWS_AND_MAGAZINES : 2.7984653577070557\n",
      "SOCIAL : 2.6630557436244566\n",
      "TRAVEL_AND_LOCAL : 2.335815842924842\n",
      "SHOPPING : 2.245542766869776\n",
      "BOOKS_AND_REFERENCE : 2.1439855563078267\n",
      "DATING : 1.861882193635745\n",
      "VIDEO_PLAYERS : 1.7941773865944455\n",
      "MAPS_AND_NAVIGATION : 1.3992326788535314\n",
      "FOOD_AND_DRINK : 1.2412547957571658\n",
      "EDUCATION : 1.1735499887158662\n",
      "ENTERTAINMENT : 0.959151433085084\n",
      "LIBRARIES_AND_DEMO : 0.9365831640713173\n",
      "AUTO_AND_VEHICLES : 0.9252990295644339\n",
      "HOUSE_AND_HOME : 0.8237418190024836\n",
      "WEATHER : 0.8011735499887168\n",
      "EVENTS : 0.7109004739336499\n",
      "PARENTING : 0.654479801399233\n",
      "ART_AND_DESIGN : 0.6431956668923496\n",
      "COMICS : 0.6206273978785829\n",
      "BEAUTY : 0.5980591288648162\n"
     ]
    }
   ],
   "source": [
    "print('Apple Store Results:\\n')\n",
    "display_table(apple_free,-5)\n",
    "print('\\nGoogle Play Store Results:\\n')\n",
    "display_table(android_free,1)\n"
   ]
  },
  {
   "cell_type": "markdown",
   "metadata": {},
   "source": [
    "From the results above, we can see that in the App Store, 58% of the apps are games apps, followed by about 8% for the entertainment apps, then 5% for the photo and video apps. This means that the majority of the apps on the App Store are dedicated for entertainment, and that not a lot of apps are dedicated for productivity, education, and health...\n",
    "\n",
    "On the other hand, we can see that in the Google Play Store, 20% of the apps are family apps, followed by 10% for games apps, then 8% for tools, 5% business, and 4% lifestyle. We can notice here that the percentages of the genres here are less scattered, and there is no dominance of one genre over the other, with the exception of the family and games (even those two constitute 30% of the total compared to 64% for the top 2 genres in the App Store). We can also notice that the type of the apps on the Google Store are more related to productivity, lifestyle, and education. This can be confirmed by checking the 'genres' column in the Google Play Store dataset, which is much more granular than the 'category' column."
   ]
  },
  {
   "cell_type": "code",
   "execution_count": 249,
   "metadata": {},
   "outputs": [
    {
     "name": "stdout",
     "output_type": "stream",
     "text": [
      "\n",
      "Google Play Store Results:\n",
      "\n",
      "Tools : 8.440532611148859\n",
      "Entertainment : 6.070864364703282\n",
      "Education : 5.348679756262725\n",
      "Business : 4.592642744301517\n",
      "Productivity : 3.893026404874732\n",
      "Lifestyle : 3.893026404874732\n",
      "Finance : 3.7011961182577164\n",
      "Medical : 3.5206499661475843\n",
      "Sports : 3.464229293613168\n",
      "Personalization : 3.3175355450236856\n",
      "Communication : 3.238546603475503\n",
      "Action : 3.1031369893929037\n",
      "Health & Fitness : 3.080568720379137\n",
      "Photography : 2.945159106296538\n",
      "News & Magazines : 2.7984653577070557\n",
      "Social : 2.6630557436244566\n",
      "Travel & Local : 2.324531708417959\n",
      "Shopping : 2.245542766869776\n",
      "Books & Reference : 2.1439855563078267\n",
      "Simulation : 2.0424283457458774\n",
      "Dating : 1.861882193635745\n",
      "Arcade : 1.8505980591288618\n",
      "Video Players & Editors : 1.771609117580679\n",
      "Casual : 1.7490408485669124\n",
      "Maps & Navigation : 1.3992326788535314\n",
      "Food & Drink : 1.2412547957571658\n",
      "Puzzle : 1.1284134506883332\n",
      "Racing : 0.9930038366057341\n",
      "Role Playing : 0.9365831640713173\n",
      "Libraries & Demo : 0.9365831640713173\n",
      "Auto & Vehicles : 0.9252990295644339\n",
      "Strategy : 0.9140148950575505\n",
      "House & Home : 0.8237418190024836\n",
      "Weather : 0.8011735499887168\n",
      "Events : 0.7109004739336499\n",
      "Adventure : 0.6770480704129997\n",
      "Comics : 0.6093432633716995\n",
      "Beauty : 0.5980591288648162\n",
      "Art & Design : 0.5980591288648162\n",
      "Parenting : 0.4965019183028659\n",
      "Card : 0.4400812457684493\n",
      "Casino : 0.428797111261566\n",
      "Trivia : 0.4175129767546827\n",
      "Educational;Education : 0.39494470774091606\n",
      "Educational : 0.37237643872714943\n",
      "Board : 0.37237643872714943\n",
      "Education;Education : 0.3385240352064995\n",
      "Word : 0.2595350936583163\n",
      "Casual;Pretend Play : 0.23696682464454966\n",
      "Music : 0.2031144211238997\n",
      "Puzzle;Brain Games : 0.18054615211013308\n",
      "Racing;Action & Adventure : 0.16926201760324977\n",
      "Entertainment;Music & Video : 0.16926201760324977\n",
      "Casual;Brain Games : 0.13540961408259983\n",
      "Casual;Action & Adventure : 0.13540961408259983\n",
      "Arcade;Action & Adventure : 0.12412547957571651\n",
      "Action;Action & Adventure : 0.10155721056194988\n",
      "Educational;Pretend Play : 0.09027307605506657\n",
      "Board;Brain Games : 0.09027307605506657\n",
      "Simulation;Action & Adventure : 0.07898894154818326\n",
      "Parenting;Education : 0.07898894154818326\n",
      "Entertainment;Brain Games : 0.07898894154818326\n",
      "Parenting;Music & Video : 0.06770480704129993\n",
      "Educational;Brain Games : 0.06770480704129993\n",
      "Casual;Creativity : 0.06770480704129993\n",
      "Art & Design;Creativity : 0.06770480704129993\n",
      "Education;Pretend Play : 0.056420672534416606\n",
      "Role Playing;Pretend Play : 0.045136538027533285\n",
      "Education;Creativity : 0.045136538027533285\n",
      "Role Playing;Action & Adventure : 0.033852403520649964\n",
      "Puzzle;Action & Adventure : 0.033852403520649964\n",
      "Entertainment;Creativity : 0.033852403520649964\n",
      "Entertainment;Action & Adventure : 0.033852403520649964\n",
      "Educational;Creativity : 0.033852403520649964\n",
      "Educational;Action & Adventure : 0.033852403520649964\n",
      "Education;Music & Video : 0.033852403520649964\n",
      "Education;Brain Games : 0.033852403520649964\n",
      "Education;Action & Adventure : 0.033852403520649964\n",
      "Adventure;Action & Adventure : 0.033852403520649964\n",
      "Video Players & Editors;Music & Video : 0.022568269013766643\n",
      "Sports;Action & Adventure : 0.022568269013766643\n",
      "Simulation;Pretend Play : 0.022568269013766643\n",
      "Puzzle;Creativity : 0.022568269013766643\n",
      "Music;Music & Video : 0.022568269013766643\n",
      "Entertainment;Pretend Play : 0.022568269013766643\n",
      "Casual;Education : 0.022568269013766643\n",
      "Board;Action & Adventure : 0.022568269013766643\n",
      "Video Players & Editors;Creativity : 0.011284134506883321\n",
      "Trivia;Education : 0.011284134506883321\n",
      "Travel & Local;Action & Adventure : 0.011284134506883321\n",
      "Tools;Education : 0.011284134506883321\n",
      "Strategy;Education : 0.011284134506883321\n",
      "Strategy;Creativity : 0.011284134506883321\n",
      "Strategy;Action & Adventure : 0.011284134506883321\n",
      "Simulation;Education : 0.011284134506883321\n",
      "Role Playing;Brain Games : 0.011284134506883321\n",
      "Racing;Pretend Play : 0.011284134506883321\n",
      "Puzzle;Education : 0.011284134506883321\n",
      "Parenting;Brain Games : 0.011284134506883321\n",
      "Music & Audio;Music & Video : 0.011284134506883321\n",
      "Lifestyle;Pretend Play : 0.011284134506883321\n",
      "Lifestyle;Education : 0.011284134506883321\n",
      "Health & Fitness;Education : 0.011284134506883321\n",
      "Health & Fitness;Action & Adventure : 0.011284134506883321\n",
      "Entertainment;Education : 0.011284134506883321\n",
      "Communication;Creativity : 0.011284134506883321\n",
      "Comics;Creativity : 0.011284134506883321\n",
      "Casual;Music & Video : 0.011284134506883321\n",
      "Card;Brain Games : 0.011284134506883321\n",
      "Card;Action & Adventure : 0.011284134506883321\n",
      "Books & Reference;Education : 0.011284134506883321\n",
      "Art & Design;Pretend Play : 0.011284134506883321\n",
      "Art & Design;Action & Adventure : 0.011284134506883321\n",
      "Arcade;Pretend Play : 0.011284134506883321\n",
      "Adventure;Education : 0.011284134506883321\n"
     ]
    }
   ],
   "source": [
    "print('\\nGoogle Play Store Results:\\n')\n",
    "display_table(android_free,-4)\n"
   ]
  },
  {
   "cell_type": "markdown",
   "metadata": {},
   "source": [
    "\n",
    "However, a dominance of a certain genre does not mean that this genre has the most users.\n",
    "\n",
    "Up to this point, we found that the App Store is dominated by apps designed for fun, while Google Play shows a more balanced landscape of both practical and for-fun apps. Now we'd like to get an idea about the kind of apps that have most users.\n",
    "\n"
   ]
  },
  {
   "cell_type": "markdown",
   "metadata": {},
   "source": [
    "## Most Popular Apps by Genre on the App Store\n"
   ]
  },
  {
   "cell_type": "markdown",
   "metadata": {},
   "source": [
    "The frequency tables we analyzed on the previous screen showed us that the App Store is dominated by apps designed for fun, while Google Play shows a more balanced landscape of both practical and fun apps. Now, we'd like to get an idea about the kind of apps with the most users.\n",
    "\n",
    "One way to find out what genres are the most popular (have the most users) is to calculate the average number of installs for each app genre. For the Google Play data set, we can find this information in the Installs column, but this information is missing for the App Store data set. As a workaround, we'll take the total number of user ratings as a proxy, which we can find in the rating_count_tot app.\n",
    "\n",
    "Let's start with calculating the average number of user ratings per app genre on the App Store. To do that, we'll need to:\n",
    "\n",
    "- Isolate the apps of each genre.\n",
    "- Sum up the user ratings for the apps of that genre.\n",
    "- Divide the sum by the number of apps belonging to that genre (not by the total number of apps)."
   ]
  },
  {
   "cell_type": "code",
   "execution_count": 274,
   "metadata": {
    "scrolled": true
   },
   "outputs": [
    {
     "name": "stdout",
     "output_type": "stream",
     "text": [
      "Navigation : 86090.33333333333\n",
      "Reference : 74942.11111111111\n",
      "Social Networking : 71548.34905660378\n",
      "Music : 57326.530303030304\n",
      "Weather : 52279.892857142855\n",
      "Book : 39758.5\n",
      "Food & Drink : 33333.92307692308\n",
      "Finance : 31467.944444444445\n",
      "Photo & Video : 28441.54375\n",
      "Travel : 28243.8\n",
      "Shopping : 26919.690476190477\n",
      "Health & Fitness : 23298.015384615384\n",
      "Sports : 23008.898550724636\n",
      "Games : 22812.903311965812\n",
      "News : 21248.023255813954\n",
      "Productivity : 21028.410714285714\n",
      "Utilities : 18684.456790123455\n",
      "Lifestyle : 16485.764705882353\n",
      "Entertainment : 14029.830708661417\n",
      "Business : 7491.117647058823\n",
      "Education : 7003.983050847458\n",
      "Catalogs : 4004.0\n",
      "Medical : 612.0\n"
     ]
    }
   ],
   "source": [
    "x = freq_table(apple_free,-5)\n",
    "tuple_list = []\n",
    "for genre in x:\n",
    "    total = 0\n",
    "    len_genre = 0\n",
    "    for rows in apple_free:\n",
    "        rating = int(rows[5])\n",
    "        genre_app = rows[-5]\n",
    "        if genre == genre_app:\n",
    "            total = total + rating\n",
    "            len_genre = len_genre + 1\n",
    "    y = ( total / len_genre, genre)\n",
    "    tuple_list.append(y)\n",
    "    \n",
    "# Sort the results\n",
    "\n",
    "table_sorted = sorted(tuple_list, reverse = True)\n",
    "for entry in table_sorted:\n",
    "    print(entry[1], ':', entry[0])"
   ]
  },
  {
   "cell_type": "markdown",
   "metadata": {},
   "source": [
    "As we can see from the table above, the average number of ratings per app genre is highest in the Navigation genre with close to 86 thousand ratings per app, followed by Reference with 75 thousand, then Social Networking at 72 thousand, Music at 57 thousand, and weather at 52 thousand.\n",
    "\n",
    "In order to verify our findings we need to see whether the results are skewed by seeing the number of ratings of each app inside these top genres."
   ]
  },
  {
   "cell_type": "code",
   "execution_count": 278,
   "metadata": {},
   "outputs": [
    {
     "name": "stdout",
     "output_type": "stream",
     "text": [
      "Waze - GPS Navigation, Maps & Real-time Traffic : 345046\n",
      "Google Maps - Navigation & Transit : 154911\n",
      "Geocaching® : 12811\n",
      "CoPilot GPS – Car Navigation & Offline Maps : 3582\n",
      "ImmobilienScout24: Real Estate Search in Germany : 187\n",
      "Railway Route Search : 5\n"
     ]
    }
   ],
   "source": [
    "for rows in apple_free:\n",
    "    if rows[-5] == 'Navigation':\n",
    "        print(rows[1],':',rows[5])"
   ]
  },
  {
   "cell_type": "markdown",
   "metadata": {},
   "source": [
    "In the Navigation genre, most of the ratings are dominated by Waze and Google Maps, which means that this genre is very hard to enter."
   ]
  },
  {
   "cell_type": "code",
   "execution_count": 280,
   "metadata": {},
   "outputs": [
    {
     "name": "stdout",
     "output_type": "stream",
     "text": [
      "Bible : 985920\n",
      "Dictionary.com Dictionary & Thesaurus : 200047\n",
      "Dictionary.com Dictionary & Thesaurus for iPad : 54175\n",
      "Google Translate : 26786\n",
      "Muslim Pro: Ramadan 2017 Prayer Times, Azan, Quran : 18418\n",
      "New Furniture Mods - Pocket Wiki & Game Tools for Minecraft PC Edition : 17588\n",
      "Merriam-Webster Dictionary : 16849\n",
      "Night Sky : 12122\n",
      "City Maps for Minecraft PE - The Best Maps for Minecraft Pocket Edition (MCPE) : 8535\n",
      "LUCKY BLOCK MOD ™ for Minecraft PC Edition - The Best Pocket Wiki & Mods Installer Tools : 4693\n",
      "GUNS MODS for Minecraft PC Edition - Mods Tools : 1497\n",
      "Guides for Pokémon GO - Pokemon GO News and Cheats : 826\n",
      "WWDC : 762\n",
      "Horror Maps for Minecraft PE - Download The Scariest Maps for Minecraft Pocket Edition (MCPE) Free : 718\n",
      "VPN Express : 14\n",
      "Real Bike Traffic Rider Virtual Reality Glasses : 8\n",
      "教えて!goo : 0\n",
      "Jishokun-Japanese English Dictionary & Translator : 0\n"
     ]
    }
   ],
   "source": [
    "for rows in apple_free:\n",
    "    if rows[-5] == 'Reference':\n",
    "        print(rows[1],':',rows[5])"
   ]
  },
  {
   "cell_type": "markdown",
   "metadata": {},
   "source": [
    "In the Reference genre, the Bible and Dictionary apps have most of the ratings. However, the rest of the apps have almost the same amount of ratings (up to 18 thousand), which means that this might be a good market to compete in."
   ]
  },
  {
   "cell_type": "code",
   "execution_count": 282,
   "metadata": {},
   "outputs": [
    {
     "name": "stdout",
     "output_type": "stream",
     "text": [
      "Facebook : 2974676\n",
      "Pinterest : 1061624\n",
      "Skype for iPhone : 373519\n",
      "Messenger : 351466\n",
      "Tumblr : 334293\n",
      "WhatsApp Messenger : 287589\n",
      "Kik : 260965\n",
      "ooVoo – Free Video Call, Text and Voice : 177501\n",
      "TextNow - Unlimited Text + Calls : 164963\n",
      "Viber Messenger – Text & Call : 164249\n",
      "Followers - Social Analytics For Instagram : 112778\n",
      "MeetMe - Chat and Meet New People : 97072\n",
      "We Heart It - Fashion, wallpapers, quotes, tattoos : 90414\n",
      "InsTrack for Instagram - Analytics Plus More : 85535\n",
      "Tango - Free Video Call, Voice and Chat : 75412\n",
      "LinkedIn : 71856\n",
      "Match™ - #1 Dating App. : 60659\n",
      "Skype for iPad : 60163\n",
      "POF - Best Dating App for Conversations : 52642\n",
      "Timehop : 49510\n",
      "Find My Family, Friends & iPhone - Life360 Locator : 43877\n",
      "Whisper - Share, Express, Meet : 39819\n",
      "Hangouts : 36404\n",
      "LINE PLAY - Your Avatar World : 34677\n",
      "WeChat : 34584\n",
      "Badoo - Meet New People, Chat, Socialize. : 34428\n",
      "Followers + for Instagram - Follower Analytics : 28633\n",
      "GroupMe : 28260\n",
      "Marco Polo Video Walkie Talkie : 27662\n",
      "Miitomo : 23965\n",
      "SimSimi : 23530\n",
      "Grindr - Gay and same sex guys chat, meet and date : 23201\n",
      "Wishbone - Compare Anything : 20649\n",
      "imo video calls and chat : 18841\n",
      "After School - Funny Anonymous School News : 18482\n",
      "Quick Reposter - Repost, Regram and Reshare Photos : 17694\n",
      "Weibo HD : 16772\n",
      "Repost for Instagram : 15185\n",
      "Live.me – Live Video Chat & Make Friends Nearby : 14724\n",
      "Nextdoor : 14402\n",
      "Followers Analytics for Instagram - InstaReport : 13914\n",
      "YouNow: Live Stream Video Chat : 12079\n",
      "FollowMeter for Instagram - Followers Tracking : 11976\n",
      "LINE : 11437\n",
      "eHarmony™ Dating App - Meet Singles : 11124\n",
      "Discord - Chat for Gamers : 9152\n",
      "QQ : 9109\n",
      "Telegram Messenger : 7573\n",
      "Weibo : 7265\n",
      "Periscope - Live Video Streaming Around the World : 6062\n",
      "Chat for Whatsapp - iPad Version : 5060\n",
      "QQ HD : 5058\n",
      "Followers Analysis Tool For Instagram App Free : 4253\n",
      "live.ly - live video streaming : 4145\n",
      "Houseparty - Group Video Chat : 3991\n",
      "SOMA Messenger : 3232\n",
      "Monkey : 3060\n",
      "Down To Lunch : 2535\n",
      "Flinch - Video Chat Staring Contest : 2134\n",
      "Highrise - Your Avatar Community : 2011\n",
      "LOVOO - Dating Chat : 1985\n",
      "PlayStation®Messages : 1918\n",
      "BOO! - Video chat camera with filters & stickers : 1805\n",
      "Qzone : 1649\n",
      "Chatous - Chat with new people : 1609\n",
      "Kiwi - Q&A : 1538\n",
      "GhostCodes - a discovery app for Snapchat : 1313\n",
      "Jodel : 1193\n",
      "FireChat : 1037\n",
      "Google Duo - simple video calling : 1033\n",
      "Fiesta by Tango - Chat & Meet New People : 885\n",
      "Google Allo — smart messaging : 862\n",
      "Peach — share vividly : 727\n",
      "Hey! VINA - Where Women Meet New Friends : 719\n",
      "Battlefield™ Companion : 689\n",
      "All Devices for WhatsApp - Messenger for iPad : 682\n",
      "Chat for Pokemon Go - GoChat : 500\n",
      "IAmNaughty – Dating App to Meet New People Online : 463\n",
      "Qzone HD : 458\n",
      "Zenly - Locate your friends in realtime : 427\n",
      "League of Legends Friends : 420\n",
      "豆瓣 : 407\n",
      "Candid - Speak Your Mind Freely : 398\n",
      "知乎 : 397\n",
      "Selfeo : 366\n",
      "Fake-A-Location Free ™ : 354\n",
      "Popcorn Buzz - Free Group Calls : 281\n",
      "Fam — Group video calling for iMessage : 279\n",
      "QQ International : 274\n",
      "Ameba : 269\n",
      "SoundCloud Pulse: for creators : 240\n",
      "Tantan : 235\n",
      "Cougar Dating & Life Style App for Mature Women : 213\n",
      "Rawr Messenger - Dab your chat : 180\n",
      "WhenToPost: Best Time to Post Photos for Instagram : 158\n",
      "Inke—Broadcast an amazing life : 147\n",
      "Mustknow - anonymous video Q&A : 53\n",
      "CTFxCmoji : 39\n",
      "Lobi : 36\n",
      "Chain: Collaborate On MyVideo Story/Group Video : 35\n",
      "botman - Real time video chat : 7\n",
      "BestieBox : 0\n",
      "MATCH ON LINE chat : 0\n",
      "niconico ch : 0\n",
      "LINE BLOG : 0\n",
      "bit-tube - Live Stream Video Chat : 0\n"
     ]
    }
   ],
   "source": [
    "for rows in apple_free:\n",
    "    if rows[-5] == 'Social Networking':\n",
    "        print(rows[1],':',rows[5])"
   ]
  },
  {
   "cell_type": "markdown",
   "metadata": {},
   "source": [
    "The Social Networking genre is dominated by the big players like Facebook and Pinterest. However, we can compete with the less popular Social Networking apps which have up to 30 thousand ratings."
   ]
  },
  {
   "cell_type": "code",
   "execution_count": 285,
   "metadata": {},
   "outputs": [
    {
     "name": "stdout",
     "output_type": "stream",
     "text": [
      "Pandora - Music & Radio : 1126879\n",
      "Spotify Music : 878563\n",
      "Shazam - Discover music, artists, videos & lyrics : 402925\n",
      "iHeartRadio – Free Music & Radio Stations : 293228\n",
      "SoundCloud - Music & Audio : 135744\n",
      "Magic Piano by Smule : 131695\n",
      "Smule Sing! : 119316\n",
      "TuneIn Radio - MLB NBA Audiobooks Podcasts Music : 110420\n",
      "Amazon Music : 106235\n",
      "SoundHound Song Search & Music Player : 82602\n",
      "Sonos Controller : 48905\n",
      "Bandsintown Concerts : 30845\n",
      "Karaoke - Sing Karaoke, Unlimited Songs! : 28606\n",
      "My Mixtapez Music : 26286\n",
      "Sing Karaoke Songs Unlimited with StarMaker : 26227\n",
      "Ringtones for iPhone & Ringtone Maker : 25403\n",
      "Musi - Unlimited Music For YouTube : 25193\n",
      "AutoRap by Smule : 18202\n",
      "Spinrilla - Mixtapes For Free : 15053\n",
      "Napster - Top Music & Radio : 14268\n",
      "edjing Mix:DJ turntable to remix and scratch music : 13580\n",
      "Free Music - MP3 Streamer & Playlist Manager Pro : 13443\n",
      "Free Piano app by Yokee : 13016\n",
      "Google Play Music : 10118\n",
      "Certified Mixtapes - Hip Hop Albums & Mixtapes : 9975\n",
      "TIDAL : 7398\n",
      "YouTube Music : 7109\n",
      "Nicki Minaj: The Empire : 5196\n",
      "Sounds app - Music And Friends : 5126\n",
      "SongFlip - Free Music Streamer : 5004\n",
      "Simple Radio - Live AM & FM Radio Stations : 4787\n",
      "Deezer - Listen to your Favorite Music & Playlists : 4677\n",
      "Ringtones for iPhone with Ringtone Maker : 4013\n",
      "Bose SoundTouch : 3687\n",
      "Amazon Alexa : 3018\n",
      "DatPiff : 2815\n",
      "Trebel Music - Unlimited Music Downloader : 2570\n",
      "Free Music Play - Mp3 Streamer & Player : 2496\n",
      "Acapella from PicPlayPost : 2487\n",
      "Coach Guitar - Lessons & Easy Tabs For Beginners : 2416\n",
      "Musicloud - MP3 and FLAC Music Player for Cloud Platforms. : 2211\n",
      "Piano - Play Keyboard Music Games with Magic Tiles : 1636\n",
      "Boom: Best Equalizer & Magical Surround Sound : 1375\n",
      "Music Freedom - Unlimited Free MP3 Music Streaming : 1246\n",
      "AmpMe - A Portable Social Party Music Speaker : 1047\n",
      "Medly - Music Maker : 933\n",
      "Bose Connect : 915\n",
      "Music Memos : 909\n",
      "UE BOOM : 612\n",
      "LiveMixtapes : 555\n",
      "NOISE : 355\n",
      "MP3 Music Player & Streamer for Clouds : 329\n",
      "Musical Video Maker - Create Music clips lip sync : 320\n",
      "Cloud Music Player - Downloader & Playlist Manager : 319\n",
      "Remixlive - Remix loops with pads : 288\n",
      "QQ音乐HD : 224\n",
      "Blocs Wave - Make & Record Music : 158\n",
      "PlayGround • Music At Your Fingertips : 150\n",
      "Music and Chill : 135\n",
      "The Singing Machine Mobile Karaoke App : 130\n",
      "radio.de - Der Radioplayer : 64\n",
      "Free Music -  Player & Streamer  for Dropbox, OneDrive & Google Drive : 46\n",
      "NRJ Radio : 38\n",
      "Smart Music: Streaming Videos and Radio : 17\n",
      "BOSS Tuner : 13\n",
      "PetitLyrics : 0\n"
     ]
    }
   ],
   "source": [
    "for rows in apple_free:\n",
    "    if rows[-5] == 'Music':\n",
    "        print(rows[1],':',rows[5])"
   ]
  },
  {
   "cell_type": "markdown",
   "metadata": {},
   "source": [
    "Music apps have a good amount of apps that have up to 80 thousand ratings and vary in utility. This might be a good market to step into."
   ]
  },
  {
   "cell_type": "markdown",
   "metadata": {},
   "source": [
    "Since the App Store is dominated with apps that aim for fun and games, we can consider making an educational and fun app that goes into the Reference genre. This app might contain educational material that are gamified to attract the user."
   ]
  },
  {
   "cell_type": "markdown",
   "metadata": {},
   "source": [
    "## Most Popular Apps by Genre on Google Play"
   ]
  },
  {
   "cell_type": "markdown",
   "metadata": {},
   "source": [
    "In the previous part, we came up with an app profile recommendation for the App Store based on the number of user ratings. We have data about the number of installs for the Google Play market, so we should be able to get a clearer picture about genre popularity. However, the install numbers don't seem precise enough — we can see that most values are open-ended (100+, 1,000+, 5,000+, etc.):"
   ]
  },
  {
   "cell_type": "markdown",
   "metadata": {},
   "source": [
    "For instance, we don't know whether an app with 100,000+ installs has 100,000 installs, 200,000, or 350,000. However, we don't need very precise data for our purposes — we only want to find out which app genres attract the most users, and we don't need perfect precision with respect to the number of users.\n",
    "\n",
    "We're going to leave the numbers as they are, which means that we'll consider that an app with 100,000+ installs has 100,000 installs, and an app with 1,000,000+ installs has 1,000,000 installs, and so on. To perform computations, however, we'll need to convert each install number from string to float. This means we need to remove the commas and the plus characters, otherwise the conversion will fail and raise an error."
   ]
  },
  {
   "cell_type": "code",
   "execution_count": 317,
   "metadata": {},
   "outputs": [
    {
     "name": "stdout",
     "output_type": "stream",
     "text": [
      "COMMUNICATION : 38456119.167247385\n",
      "VIDEO_PLAYERS : 24727872.452830188\n",
      "SOCIAL : 23253652.127118643\n",
      "PHOTOGRAPHY : 17805627.643678162\n",
      "PRODUCTIVITY : 16787331.344927534\n",
      "GAME : 15560965.599534342\n",
      "TRAVEL_AND_LOCAL : 13984077.710144928\n",
      "ENTERTAINMENT : 11640705.88235294\n",
      "TOOLS : 10682301.033377837\n",
      "NEWS_AND_MAGAZINES : 9549178.467741935\n",
      "BOOKS_AND_REFERENCE : 8767811.894736841\n",
      "SHOPPING : 7036877.311557789\n",
      "PERSONALIZATION : 5201482.6122448975\n",
      "WEATHER : 5074486.197183099\n",
      "HEALTH_AND_FITNESS : 4188821.9853479853\n",
      "MAPS_AND_NAVIGATION : 4056941.7741935486\n",
      "FAMILY : 3694276.334922527\n",
      "SPORTS : 3638640.1428571427\n",
      "ART_AND_DESIGN : 1986335.0877192982\n",
      "FOOD_AND_DRINK : 1924897.7363636363\n",
      "EDUCATION : 1820673.076923077\n",
      "BUSINESS : 1712290.1474201474\n",
      "LIFESTYLE : 1437816.2687861272\n",
      "FINANCE : 1387692.475609756\n",
      "HOUSE_AND_HOME : 1331540.5616438356\n",
      "DATING : 854028.8303030303\n",
      "COMICS : 817657.2727272727\n",
      "AUTO_AND_VEHICLES : 647317.8170731707\n",
      "LIBRARIES_AND_DEMO : 638503.734939759\n",
      "PARENTING : 542603.6206896552\n",
      "BEAUTY : 513151.88679245283\n",
      "EVENTS : 253542.22222222222\n",
      "MEDICAL : 120616.48717948717\n"
     ]
    }
   ],
   "source": [
    "x = freq_table(android_free,1)\n",
    "tuple_list = []\n",
    "for genre in x:\n",
    "    total = 0\n",
    "    len_category = 0\n",
    "    for rows in android_free:\n",
    "        rating = rows[5]\n",
    "        genre_app = rows[1]\n",
    "        if genre == genre_app:\n",
    "            rating = rating.replace(',','')\n",
    "            rating = rating.replace('+','')\n",
    "            total = total + int(rating)\n",
    "            len_category = len_category + 1\n",
    "    y = ( total / len_category, genre)\n",
    "    tuple_list.append(y)\n",
    "    \n",
    "# Sort the results\n",
    "\n",
    "table_sorted = sorted(tuple_list, reverse = True)\n",
    "for entry in table_sorted:\n",
    "    print(entry[1], ':', entry[0])"
   ]
  },
  {
   "cell_type": "markdown",
   "metadata": {},
   "source": [
    "As we can see from the table above, the average number of ratings per app genre is highest in the Communication genre with almost 38 million installs per app, followed by Video Players with 25 million, then Social at 23 million, Photography at 17 million, and game at 16 million.\n",
    "\n",
    "In order to verify our findings we need to see whether the results are skewed by seeing the number of ratings of each app inside these top genres."
   ]
  },
  {
   "cell_type": "code",
   "execution_count": 322,
   "metadata": {},
   "outputs": [
    {
     "name": "stdout",
     "output_type": "stream",
     "text": [
      "WhatsApp Messenger : 1,000,000,000+\n",
      "imo beta free calls and text : 100,000,000+\n",
      "Android Messages : 100,000,000+\n",
      "Google Duo - High Quality Video Calls : 500,000,000+\n",
      "Messenger – Text and Video Chat for Free : 1,000,000,000+\n",
      "imo free video calls and chat : 500,000,000+\n",
      "Skype - free IM & video calls : 1,000,000,000+\n",
      "Who : 100,000,000+\n",
      "GO SMS Pro - Messenger, Free Themes, Emoji : 100,000,000+\n",
      "LINE: Free Calls & Messages : 500,000,000+\n",
      "Google Chrome: Fast & Secure : 1,000,000,000+\n",
      "Firefox Browser fast & private : 100,000,000+\n",
      "UC Browser - Fast Download Private & Secure : 500,000,000+\n",
      "Gmail : 1,000,000,000+\n",
      "Hangouts : 1,000,000,000+\n",
      "Messenger Lite: Free Calls & Messages : 100,000,000+\n",
      "Kik : 100,000,000+\n",
      "KakaoTalk: Free Calls & Text : 100,000,000+\n",
      "Opera Mini - fast web browser : 100,000,000+\n",
      "Opera Browser: Fast and Secure : 100,000,000+\n",
      "Telegram : 100,000,000+\n",
      "Truecaller: Caller ID, SMS spam blocking & Dialer : 100,000,000+\n",
      "UC Browser Mini -Tiny Fast Private & Secure : 100,000,000+\n",
      "Viber Messenger : 500,000,000+\n",
      "WeChat : 100,000,000+\n",
      "Yahoo Mail – Stay Organized : 100,000,000+\n",
      "BBM - Free Calls & Messages : 100,000,000+\n"
     ]
    }
   ],
   "source": [
    "for rows in android_free:\n",
    "    if rows[1] == 'COMMUNICATION' and (rows[5] == '1,000,000,000+'\n",
    "                                      or rows[5] == '500,000,000+'\n",
    "                                      or rows[5] == '100,000,000+'):\n",
    "        print(rows[0], ':', rows[5])"
   ]
  },
  {
   "cell_type": "code",
   "execution_count": 323,
   "metadata": {},
   "outputs": [
    {
     "name": "stdout",
     "output_type": "stream",
     "text": [
      "YouTube : 1,000,000,000+\n",
      "Motorola Gallery : 100,000,000+\n",
      "VLC for Android : 100,000,000+\n",
      "Google Play Movies & TV : 1,000,000,000+\n",
      "MX Player : 500,000,000+\n",
      "Dubsmash : 100,000,000+\n",
      "VivaVideo - Video Editor & Photo Movie : 100,000,000+\n",
      "VideoShow-Video Editor, Video Maker, Beauty Camera : 100,000,000+\n",
      "Motorola FM Radio : 100,000,000+\n"
     ]
    }
   ],
   "source": [
    "for rows in android_free:\n",
    "    if rows[1] == 'VIDEO_PLAYERS' and (rows[5] == '1,000,000,000+'\n",
    "                                      or rows[5] == '500,000,000+'\n",
    "                                      or rows[5] == '100,000,000+'):\n",
    "        print(rows[0], ':', rows[5])"
   ]
  },
  {
   "cell_type": "code",
   "execution_count": 325,
   "metadata": {},
   "outputs": [
    {
     "name": "stdout",
     "output_type": "stream",
     "text": [
      "Facebook : 1,000,000,000+\n",
      "Facebook Lite : 500,000,000+\n",
      "Tumblr : 100,000,000+\n",
      "Pinterest : 100,000,000+\n",
      "Google+ : 1,000,000,000+\n",
      "Badoo - Free Chat & Dating App : 100,000,000+\n",
      "Tango - Live Video Broadcast : 100,000,000+\n",
      "Instagram : 1,000,000,000+\n",
      "Snapchat : 500,000,000+\n",
      "LinkedIn : 100,000,000+\n",
      "Tik Tok - including musical.ly : 100,000,000+\n",
      "BIGO LIVE - Live Stream : 100,000,000+\n",
      "VK : 100,000,000+\n"
     ]
    }
   ],
   "source": [
    "for rows in android_free:\n",
    "    if rows[1] == 'SOCIAL' and (rows[5] == '1,000,000,000+'\n",
    "                                      or rows[5] == '500,000,000+'\n",
    "                                      or rows[5] == '100,000,000+'):\n",
    "        print(rows[0], ':', rows[5])"
   ]
  },
  {
   "cell_type": "code",
   "execution_count": 327,
   "metadata": {},
   "outputs": [
    {
     "name": "stdout",
     "output_type": "stream",
     "text": [
      "B612 - Beauty & Filter Camera : 100,000,000+\n",
      "YouCam Makeup - Magic Selfie Makeovers : 100,000,000+\n",
      "Sweet Selfie - selfie camera, beauty cam, photo edit : 100,000,000+\n",
      "Google Photos : 1,000,000,000+\n",
      "Retrica : 100,000,000+\n",
      "Photo Editor Pro : 100,000,000+\n",
      "BeautyPlus - Easy Photo Editor & Selfie Camera : 100,000,000+\n",
      "PicsArt Photo Studio: Collage Maker & Pic Editor : 100,000,000+\n",
      "Photo Collage Editor : 100,000,000+\n",
      "Z Camera - Photo Editor, Beauty Selfie, Collage : 100,000,000+\n",
      "PhotoGrid: Video & Pic Collage Maker, Photo Editor : 100,000,000+\n",
      "Candy Camera - selfie, beauty camera, photo editor : 100,000,000+\n",
      "YouCam Perfect - Selfie Photo Editor : 100,000,000+\n",
      "Camera360: Selfie Photo Editor with Funny Sticker : 100,000,000+\n",
      "S Photo Editor - Collage Maker , Photo Collage : 100,000,000+\n",
      "AR effect : 100,000,000+\n",
      "Cymera Camera- Photo Editor, Filter,Collage,Layout : 100,000,000+\n",
      "LINE Camera - Photo editor : 100,000,000+\n",
      "Photo Editor Collage Maker Pro : 100,000,000+\n"
     ]
    }
   ],
   "source": [
    "for rows in android_free:\n",
    "    if rows[1] == 'PHOTOGRAPHY' and (rows[5] == '1,000,000,000+'\n",
    "                                      or rows[5] == '500,000,000+'\n",
    "                                      or rows[5] == '100,000,000+'):\n",
    "        print(rows[0], ':', rows[5])"
   ]
  },
  {
   "cell_type": "code",
   "execution_count": 328,
   "metadata": {
    "scrolled": true
   },
   "outputs": [
    {
     "name": "stdout",
     "output_type": "stream",
     "text": [
      "Microsoft Word : 500,000,000+\n",
      "Microsoft Outlook : 100,000,000+\n",
      "Microsoft OneDrive : 100,000,000+\n",
      "Microsoft OneNote : 100,000,000+\n",
      "Google Keep : 100,000,000+\n",
      "ES File Explorer File Manager : 100,000,000+\n",
      "Dropbox : 500,000,000+\n",
      "Google Docs : 100,000,000+\n",
      "Microsoft PowerPoint : 100,000,000+\n",
      "Samsung Notes : 100,000,000+\n",
      "SwiftKey Keyboard : 100,000,000+\n",
      "Google Drive : 1,000,000,000+\n",
      "Adobe Acrobat Reader : 100,000,000+\n",
      "Google Sheets : 100,000,000+\n",
      "Microsoft Excel : 100,000,000+\n",
      "WPS Office - Word, Docs, PDF, Note, Slide & Sheet : 100,000,000+\n",
      "Google Slides : 100,000,000+\n",
      "ColorNote Notepad Notes : 100,000,000+\n",
      "Evernote – Organizer, Planner for Notes & Memos : 100,000,000+\n",
      "Google Calendar : 500,000,000+\n",
      "Cloud Print : 500,000,000+\n",
      "CamScanner - Phone PDF Creator : 100,000,000+\n"
     ]
    }
   ],
   "source": [
    "for rows in android_free:\n",
    "    if rows[1] == 'PRODUCTIVITY' and (rows[5] == '1,000,000,000+'\n",
    "                                      or rows[5] == '500,000,000+'\n",
    "                                      or rows[5] == '100,000,000+'):\n",
    "        print(rows[0], ':', rows[5])"
   ]
  },
  {
   "cell_type": "markdown",
   "metadata": {},
   "source": [
    "As we can see from the information above, the Communication category is dominated by the big names such as Whatsapp and Messenger. The popular applications in the Productivity category contain mostly applications developed by Google and Microsoft. In the Photography category however, we can see that we are able to penetrate the market since it is not saturated, and the popular apps are not dominated by the big names "
   ]
  },
  {
   "cell_type": "markdown",
   "metadata": {},
   "source": [
    "## Conclusion"
   ]
  },
  {
   "cell_type": "markdown",
   "metadata": {},
   "source": [
    "After analyzing both the App Store and the Google Play Store, we concluded that we should develop an application that is suitable for both stores since there are some differences between the two stores. So we need to develop an application that is related to books and fun to be suitable for the App Store, and it should also be related to Photography to attract the users in the Google Store. So the app can be something that combines learning and photography. The app might have several games where the user is asked to photograph an item and guess its name in a foreign language that the user wants to learn. We think that this type of application would be successful in the free apps market since it would attract a lot of users."
   ]
  }
 ],
 "metadata": {
  "kernelspec": {
   "display_name": "Python 3",
   "language": "python",
   "name": "python3"
  },
  "language_info": {
   "codemirror_mode": {
    "name": "ipython",
    "version": 3
   },
   "file_extension": ".py",
   "mimetype": "text/x-python",
   "name": "python",
   "nbconvert_exporter": "python",
   "pygments_lexer": "ipython3",
   "version": "3.7.4"
  }
 },
 "nbformat": 4,
 "nbformat_minor": 2
}
